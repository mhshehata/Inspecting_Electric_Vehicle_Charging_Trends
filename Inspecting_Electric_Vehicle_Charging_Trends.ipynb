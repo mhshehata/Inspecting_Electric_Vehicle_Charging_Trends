{
 "cells": [
  {
   "cell_type": "markdown",
   "id": "3bfef1de-6cf3-4410-8c17-4d235deedff5",
   "metadata": {},
   "source": [
    "![Futuristic electric car charging](ev_charging.png)"
   ]
  },
  {
   "cell_type": "code",
   "execution_count": 23,
   "id": "bff36b1c-38f2-4a2c-8e4e-3d357b56fa21",
   "metadata": {
    "executionCancelledAt": null,
    "executionTime": 47,
    "lastExecutedAt": 1723611966181,
    "lastExecutedByKernel": "85585d78-0c33-4d63-be40-42d4e14ad4db",
    "lastScheduledRunId": null,
    "lastSuccessfullyExecutedCode": "# Import required libraries\nimport pandas as pd\nimport matplotlib.pyplot as plt\nimport seaborn as sns"
   },
   "outputs": [],
   "source": [
    "# Import required libraries\n",
    "import pandas as pd\n",
    "import matplotlib.pyplot as plt\n",
    "import seaborn as sns"
   ]
  },
  {
   "cell_type": "code",
   "execution_count": 24,
   "id": "50c40e0a-b33d-46ad-bccc-c8ad085d07fb",
   "metadata": {
    "executionCancelledAt": null,
    "executionTime": 48,
    "lastExecutedAt": 1723611966229,
    "lastExecutedByKernel": "85585d78-0c33-4d63-be40-42d4e14ad4db",
    "lastScheduledRunId": null,
    "lastSuccessfullyExecutedCode": "# Loading Data\nprivate = pd.read_csv('private_ev_charging.csv')\npublic = pd.read_csv('public_ev_charging.csv')\nsales = pd.read_csv('ev_sales.csv')",
    "outputsMetadata": {
     "0": {
      "height": 143,
      "type": "stream"
     }
    }
   },
   "outputs": [],
   "source": [
    "# Loading Data\n",
    "private = pd.read_csv('private_ev_charging.csv')\n",
    "public = pd.read_csv('public_ev_charging.csv')\n",
    "sales = pd.read_csv('ev_sales.csv')"
   ]
  },
  {
   "cell_type": "code",
   "execution_count": 25,
   "id": "284c2822-efc4-4b5b-9278-6424e5d80ea1",
   "metadata": {
    "executionCancelledAt": null,
    "executionTime": 57,
    "lastExecutedAt": 1723611966286,
    "lastExecutedByKernel": "85585d78-0c33-4d63-be40-42d4e14ad4db",
    "lastScheduledRunId": null,
    "lastSuccessfullyExecutedCode": "# Joining Private & Public DataFrames\npriv_pub = private.merge(public, how='outer', on='year', indicator=True)\npriv_pub_filtered = priv_pub[priv_pub['_merge'] == 'both']\npriv_pub_final = priv_pub_filtered.drop('_merge', axis=1)\npriv_pub_final.head()",
    "outputsMetadata": {
     "0": {
      "height": 234,
      "type": "dataFrame"
     }
    }
   },
   "outputs": [
    {
     "data": {
      "text/html": [
       "<div>\n",
       "<style scoped>\n",
       "    .dataframe tbody tr th:only-of-type {\n",
       "        vertical-align: middle;\n",
       "    }\n",
       "\n",
       "    .dataframe tbody tr th {\n",
       "        vertical-align: top;\n",
       "    }\n",
       "\n",
       "    .dataframe thead th {\n",
       "        text-align: right;\n",
       "    }\n",
       "</style>\n",
       "<table border=\"1\" class=\"dataframe\">\n",
       "  <thead>\n",
       "    <tr style=\"text-align: right;\">\n",
       "      <th></th>\n",
       "      <th>year</th>\n",
       "      <th>private_ports</th>\n",
       "      <th>private_station_locations</th>\n",
       "      <th>public_ports</th>\n",
       "      <th>public_station_locations</th>\n",
       "    </tr>\n",
       "  </thead>\n",
       "  <tbody>\n",
       "    <tr>\n",
       "      <th>0</th>\n",
       "      <td>2014</td>\n",
       "      <td>3695.0</td>\n",
       "      <td>1825.0</td>\n",
       "      <td>22470</td>\n",
       "      <td>9207</td>\n",
       "    </tr>\n",
       "    <tr>\n",
       "      <th>1</th>\n",
       "      <td>2015</td>\n",
       "      <td>4150.0</td>\n",
       "      <td>1962.0</td>\n",
       "      <td>26532</td>\n",
       "      <td>10710</td>\n",
       "    </tr>\n",
       "    <tr>\n",
       "      <th>2</th>\n",
       "      <td>2016</td>\n",
       "      <td>5763.0</td>\n",
       "      <td>2331.0</td>\n",
       "      <td>33165</td>\n",
       "      <td>13150</td>\n",
       "    </tr>\n",
       "    <tr>\n",
       "      <th>3</th>\n",
       "      <td>2017</td>\n",
       "      <td>6048.0</td>\n",
       "      <td>2370.0</td>\n",
       "      <td>45789</td>\n",
       "      <td>16170</td>\n",
       "    </tr>\n",
       "    <tr>\n",
       "      <th>4</th>\n",
       "      <td>2018</td>\n",
       "      <td>6812.0</td>\n",
       "      <td>2489.0</td>\n",
       "      <td>56842</td>\n",
       "      <td>19893</td>\n",
       "    </tr>\n",
       "  </tbody>\n",
       "</table>\n",
       "</div>"
      ],
      "text/plain": [
       "   year  private_ports  private_station_locations  public_ports  \\\n",
       "0  2014         3695.0                     1825.0         22470   \n",
       "1  2015         4150.0                     1962.0         26532   \n",
       "2  2016         5763.0                     2331.0         33165   \n",
       "3  2017         6048.0                     2370.0         45789   \n",
       "4  2018         6812.0                     2489.0         56842   \n",
       "\n",
       "   public_station_locations  \n",
       "0                      9207  \n",
       "1                     10710  \n",
       "2                     13150  \n",
       "3                     16170  \n",
       "4                     19893  "
      ]
     },
     "execution_count": 25,
     "metadata": {},
     "output_type": "execute_result"
    }
   ],
   "source": [
    "# Joining Private & Public DataFrames\n",
    "priv_pub = private.merge(public, how='outer', on='year', indicator=True)\n",
    "priv_pub_filtered = priv_pub[priv_pub['_merge'] == 'both']\n",
    "priv_pub_final = priv_pub_filtered.drop('_merge', axis=1)\n",
    "priv_pub_final.head()"
   ]
  },
  {
   "cell_type": "code",
   "execution_count": 26,
   "id": "069c09f7-7bc9-4767-9a5f-f8f667a7befc",
   "metadata": {
    "executionCancelledAt": null,
    "executionTime": 59,
    "lastExecutedAt": 1723611966345,
    "lastExecutedByKernel": "85585d78-0c33-4d63-be40-42d4e14ad4db",
    "lastScheduledRunId": null,
    "lastSuccessfullyExecutedCode": "# Joining Sales DataFrame\nsales_agg = sales.groupby('year')['sales'].sum().reset_index()\nall_data = priv_pub_final.merge(sales_agg, how='left', on='year')\nall_data = all_data.dropna(subset='sales')",
    "outputsMetadata": {
     "0": {
      "height": 96,
      "type": "dataFrame"
     }
    }
   },
   "outputs": [],
   "source": [
    "# Joining Sales DataFrame\n",
    "sales_agg = sales.groupby('year')['sales'].sum().reset_index()\n",
    "all_data = priv_pub_final.merge(sales_agg, how='left', on='year')\n",
    "all_data = all_data.dropna(subset='sales')"
   ]
  },
  {
   "cell_type": "code",
   "execution_count": 27,
   "id": "0ee77b00-b305-4d93-a349-0d083d9ee4f8",
   "metadata": {
    "executionCancelledAt": null,
    "executionTime": 51,
    "lastExecutedAt": 1723611966398,
    "lastExecutedByKernel": "85585d78-0c33-4d63-be40-42d4e14ad4db",
    "lastScheduledRunId": null,
    "lastSuccessfullyExecutedCode": "# How many vehicles were sold in 2018 in total?\nev_sales_2018 = int(all_data[all_data['year'] == 2018]['sales'])\nev_sales_2018"
   },
   "outputs": [
    {
     "name": "stderr",
     "output_type": "stream",
     "text": [
      "/var/folders/03/sf40q6ws06g5psk07rbx4c_40000gn/T/ipykernel_6973/2811496447.py:2: FutureWarning: Calling int on a single element Series is deprecated and will raise a TypeError in the future. Use int(ser.iloc[0]) instead\n",
      "  ev_sales_2018 = int(all_data[all_data['year'] == 2018]['sales'])\n"
     ]
    },
    {
     "data": {
      "text/plain": [
       "361315"
      ]
     },
     "execution_count": 27,
     "metadata": {},
     "output_type": "execute_result"
    }
   ],
   "source": [
    "# How many vehicles were sold in 2018 in total?\n",
    "ev_sales_2018 = int(all_data[all_data['year'] == 2018]['sales'])\n",
    "ev_sales_2018"
   ]
  },
  {
   "cell_type": "code",
   "execution_count": 44,
   "id": "10b5def7-e44b-4837-bd72-22e40f244844",
   "metadata": {
    "executionCancelledAt": null,
    "executionTime": 409,
    "lastExecutedAt": 1723611966807,
    "lastExecutedByKernel": "85585d78-0c33-4d63-be40-42d4e14ad4db",
    "lastScheduledRunId": null,
    "lastSuccessfullyExecutedCode": "# Trends\nfig, ax = plt.subplots()\nsns.lineplot(data=all_data, x='year', y='private_ports', label='Private Ports')\nsns.lineplot(data=all_data, x='year', y='public_ports', ax=ax, label='Public Ports')\nsns.lineplot(data=all_data, x='year', y='sales', ax=ax, label='Total Sales')\nax.set(xlabel='Year', ylabel='Count', title='EV Ports and Sales 2014-2019')\n\ntrend='same'\ntrend"
   },
   "outputs": [
    {
     "name": "stderr",
     "output_type": "stream",
     "text": [
      "/opt/anaconda3/lib/python3.11/site-packages/seaborn/_oldcore.py:1119: FutureWarning: use_inf_as_na option is deprecated and will be removed in a future version. Convert inf values to NaN before operating instead.\n",
      "  with pd.option_context('mode.use_inf_as_na', True):\n",
      "/opt/anaconda3/lib/python3.11/site-packages/seaborn/_oldcore.py:1119: FutureWarning: use_inf_as_na option is deprecated and will be removed in a future version. Convert inf values to NaN before operating instead.\n",
      "  with pd.option_context('mode.use_inf_as_na', True):\n",
      "/opt/anaconda3/lib/python3.11/site-packages/seaborn/_oldcore.py:1119: FutureWarning: use_inf_as_na option is deprecated and will be removed in a future version. Convert inf values to NaN before operating instead.\n",
      "  with pd.option_context('mode.use_inf_as_na', True):\n",
      "/opt/anaconda3/lib/python3.11/site-packages/seaborn/_oldcore.py:1119: FutureWarning: use_inf_as_na option is deprecated and will be removed in a future version. Convert inf values to NaN before operating instead.\n",
      "  with pd.option_context('mode.use_inf_as_na', True):\n",
      "/opt/anaconda3/lib/python3.11/site-packages/seaborn/_oldcore.py:1119: FutureWarning: use_inf_as_na option is deprecated and will be removed in a future version. Convert inf values to NaN before operating instead.\n",
      "  with pd.option_context('mode.use_inf_as_na', True):\n",
      "/opt/anaconda3/lib/python3.11/site-packages/seaborn/_oldcore.py:1119: FutureWarning: use_inf_as_na option is deprecated and will be removed in a future version. Convert inf values to NaN before operating instead.\n",
      "  with pd.option_context('mode.use_inf_as_na', True):\n"
     ]
    },
    {
     "data": {
      "image/png": "[encoded data removed]",
      "text/plain": [
       "<Figure size 1000x600 with 1 Axes>"
      ]
     },
     "metadata": {},
     "output_type": "display_data"
    }
   ],
   "source": [
    "# Trends\n",
    "sns.set_palette(palette=[\"blue\", \"green\", \"red\"])\n",
    "line_styles = [\"-\", \"--\", \":\"]\n",
    "fig, ax = plt.subplots(figsize=(10, 6))\n",
    "for i, label in enumerate([\"private_ports\", \"public_ports\", \"sales\"]):\n",
    "    sns.lineplot(data=all_data, x='year', y=label, ax=ax, label=label, linestyle=line_styles[i])\n",
    "    \n",
    "plt.show()\n",
    "fig.savefig('ev_results.png')"
   ]
  },
  {
   "cell_type": "code",
   "execution_count": null,
   "id": "6f260ba1-bbd6-4a75-bf92-6d93c1f7799f",
   "metadata": {},
   "outputs": [],
   "source": []
  }
 ],
 "metadata": {
  "colab": {
   "name": "Welcome to DataCamp Workspaces.ipynb",
   "provenance": []
  },
  "kernelspec": {
   "display_name": "Python 3 (ipykernel)",
   "language": "python",
   "name": "python3"
  },
  "language_info": {
   "codemirror_mode": {
    "name": "ipython",
    "version": 3
   },
   "file_extension": ".py",
   "mimetype": "text/x-python",
   "name": "python",
   "nbconvert_exporter": "python",
   "pygments_lexer": "ipython3",
   "version": "3.11.7"
  }
 },
 "nbformat": 4,
 "nbformat_minor": 5
}
